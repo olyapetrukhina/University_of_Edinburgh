{
 "cells": [
  {
   "cell_type": "markdown",
   "id": "c5001b4d-3f6c-4677-ac32-10617693c7b0",
   "metadata": {
    "jp-MarkdownHeadingCollapsed": true
   },
   "source": [
    "## A Simple Numpy Example"
   ]
  },
  {
   "cell_type": "code",
   "execution_count": 4,
   "id": "27abdb0f-4524-4885-a768-f80d7ffca1ed",
   "metadata": {},
   "outputs": [],
   "source": [
    "import numpy as np"
   ]
  },
  {
   "cell_type": "code",
   "execution_count": 6,
   "id": "29f6b57f-48e0-4863-bec0-5549143956cf",
   "metadata": {},
   "outputs": [
    {
     "data": {
      "text/plain": [
       "array([20.1, 20.8, 21.9, 22.5, 22.7, 22.3, 21.8, 21.2, 20.9, 20.1])"
      ]
     },
     "execution_count": 6,
     "metadata": {},
     "output_type": "execute_result"
    }
   ],
   "source": [
    "cvalues = [20.1, 20.8, 21.9, 22.5, 22.7, 22.3, 21.8, 21.2, 20.9, 20.1]\n",
    "c = np.array(cvalues)\n",
    "c"
   ]
  },
  {
   "cell_type": "code",
   "execution_count": 8,
   "id": "66edfc7a-ad76-4358-a964-6886cc351edc",
   "metadata": {},
   "outputs": [
    {
     "data": {
      "text/plain": [
       "array([68.18, 69.44, 71.42, 72.5 , 72.86, 72.14, 71.24, 70.16, 69.62,\n",
       "       68.18])"
      ]
     },
     "execution_count": 8,
     "metadata": {},
     "output_type": "execute_result"
    }
   ],
   "source": [
    "#turn the values into degrees Fahrenheit\n",
    "\n",
    "c * 9 / 5 + 32"
   ]
  },
  {
   "cell_type": "code",
   "execution_count": 10,
   "id": "d445abdc-4699-4bbf-bbab-2be25507a824",
   "metadata": {},
   "outputs": [
    {
     "data": {
      "text/plain": [
       "numpy.ndarray"
      ]
     },
     "execution_count": 10,
     "metadata": {},
     "output_type": "execute_result"
    }
   ],
   "source": [
    "type(c)"
   ]
  },
  {
   "cell_type": "markdown",
   "id": "e590ed8a-6182-4683-b671-30ce6ae8e3e7",
   "metadata": {
    "jp-MarkdownHeadingCollapsed": true
   },
   "source": [
    "## Graphical Representation of the Values"
   ]
  },
  {
   "cell_type": "code",
   "execution_count": 13,
   "id": "70f635ef-3d10-4ad7-882e-c44d1cf53aa9",
   "metadata": {},
   "outputs": [],
   "source": [
    "%matplotlib inline"
   ]
  },
  {
   "cell_type": "code",
   "execution_count": 23,
   "id": "6ba39bed-e06e-4aaa-b85b-dfd2a6acec7e",
   "metadata": {},
   "outputs": [
    {
     "data": {
      "image/png": "[encoded data removed]",
      "text/plain": [
       "<Figure size 640x480 with 1 Axes>"
      ]
     },
     "metadata": {},
     "output_type": "display_data"
    }
   ],
   "source": [
    "import matplotlib.pyplot as plt\n",
    "\n",
    "plt.plot(c)\n",
    "plt.show()"
   ]
  },
  {
   "cell_type": "markdown",
   "id": "3fce97ae-e145-4789-8e17-e844bd4a4d32",
   "metadata": {},
   "source": [
    "## Creating Arrays \n",
    "\n",
    "**arange**\n",
    "arange([start,] stop[, step], [, dtype=None])\n",
    "\n",
    "arange returns evenly spaced values within a given interval. The values are generated within the half-open interval '[start, stop)' "
   ]
  },
  {
   "cell_type": "code",
   "execution_count": 28,
   "id": "033a1b0a-0600-458c-a142-f53e0dcd2cc7",
   "metadata": {},
   "outputs": [
    {
     "data": {
      "text/plain": [
       "array([1, 2, 3, 4, 5, 6, 7, 8, 9])"
      ]
     },
     "execution_count": 28,
     "metadata": {},
     "output_type": "execute_result"
    }
   ],
   "source": [
    "a = np.arange(1, 10)\n",
    "a"
   ]
  },
  {
   "cell_type": "code",
   "execution_count": 31,
   "id": "15ec32b6-eca6-4920-84f0-c74bc80c6e65",
   "metadata": {},
   "outputs": [
    {
     "data": {
      "text/plain": [
       "array([ 0.5,  1.3,  2.1,  2.9,  3.7,  4.5,  5.3,  6.1,  6.9,  7.7,  8.5,\n",
       "        9.3, 10.1])"
      ]
     },
     "execution_count": 31,
     "metadata": {},
     "output_type": "execute_result"
    }
   ],
   "source": [
    "x = np.arange(0.5, 10.4, 0.8)\n",
    "x"
   ]
  },
  {
   "cell_type": "markdown",
   "id": "bdac43e7-4a13-4bfd-9505-dd680f3f3726",
   "metadata": {},
   "source": [
    "**linspace**\n",
    "\n",
    "linspace(start, stop, num=50, endpoint=True, retstep=False)\n",
    "\n",
    "linspace returns an ndarray, consisting of 'num' equally spaced samples in the closed interval [start, stop] or the half-open interval [start, stop)\n",
    "\n",
    "The number of samples to be generated can be set with 'num', which defaults to 50. If the optional parameter 'endpoint' is set to True (the default), 'stop' will be the last sample of the sequence. Otherwise, it is not included."
   ]
  },
  {
   "cell_type": "code",
   "execution_count": 37,
   "id": "3c2945aa-c6f0-48e7-a9b2-d2c309ab67cd",
   "metadata": {},
   "outputs": [
    {
     "name": "stdout",
     "output_type": "stream",
     "text": [
      "[ 1.          1.18367347  1.36734694  1.55102041  1.73469388  1.91836735\n",
      "  2.10204082  2.28571429  2.46938776  2.65306122  2.83673469  3.02040816\n",
      "  3.20408163  3.3877551   3.57142857  3.75510204  3.93877551  4.12244898\n",
      "  4.30612245  4.48979592  4.67346939  4.85714286  5.04081633  5.2244898\n",
      "  5.40816327  5.59183673  5.7755102   5.95918367  6.14285714  6.32653061\n",
      "  6.51020408  6.69387755  6.87755102  7.06122449  7.24489796  7.42857143\n",
      "  7.6122449   7.79591837  7.97959184  8.16326531  8.34693878  8.53061224\n",
      "  8.71428571  8.89795918  9.08163265  9.26530612  9.44897959  9.63265306\n",
      "  9.81632653 10.        ]\n"
     ]
    }
   ],
   "source": [
    "print(np.linspace(1, 10)) # 50 values between 1 and 10"
   ]
  },
  {
   "cell_type": "code",
   "execution_count": 40,
   "id": "d6360d94-5edb-41d2-83b2-6477f3288066",
   "metadata": {},
   "outputs": [
    {
     "name": "stdout",
     "output_type": "stream",
     "text": [
      "[ 1.   2.5  4.   5.5  7.   8.5 10. ]\n"
     ]
    }
   ],
   "source": [
    "print(np.linspace(1, 10, 7))"
   ]
  },
  {
   "cell_type": "code",
   "execution_count": 44,
   "id": "abacd175-1860-40ac-a5f8-5e958d4b97af",
   "metadata": {},
   "outputs": [
    {
     "name": "stdout",
     "output_type": "stream",
     "text": [
      "[1.         2.28571429 3.57142857 4.85714286 6.14285714 7.42857143\n",
      " 8.71428571]\n"
     ]
    }
   ],
   "source": [
    "print(np.linspace(1, 10, 7, endpoint=False)) ## excluding the endpoint"
   ]
  },
  {
   "cell_type": "markdown",
   "id": "95514c05-4f3c-4189-a80e-715a8d506a79",
   "metadata": {},
   "source": [
    "**Arrays with ones, zeros and empty***"
   ]
  },
  {
   "cell_type": "code",
   "execution_count": 105,
   "id": "22e7b06e-1a03-4a7d-9879-8ebf8d0b20ae",
   "metadata": {},
   "outputs": [
    {
     "data": {
      "text/plain": [
       "array([[1., 1., 1.],\n",
       "       [1., 1., 1.]])"
      ]
     },
     "execution_count": 105,
     "metadata": {},
     "output_type": "execute_result"
    }
   ],
   "source": [
    "e = np.ones((2, 3))\n",
    "e"
   ]
  },
  {
   "cell_type": "code",
   "execution_count": 107,
   "id": "95dd84c5-cc08-4b0e-a40e-417791431b02",
   "metadata": {},
   "outputs": [
    {
     "data": {
      "text/plain": [
       "array([[1, 1, 1],\n",
       "       [1, 1, 1]])"
      ]
     },
     "execution_count": 107,
     "metadata": {},
     "output_type": "execute_result"
    }
   ],
   "source": [
    "e = np.ones((2, 3), dtype=int)\n",
    "e"
   ]
  },
  {
   "cell_type": "code",
   "execution_count": 109,
   "id": "7f72c6d9-5675-44b0-9aa6-a8d8e3d6a7c9",
   "metadata": {},
   "outputs": [
    {
     "name": "stdout",
     "output_type": "stream",
     "text": [
      "[[0. 0. 0. 0.]\n",
      " [0. 0. 0. 0.]]\n"
     ]
    }
   ],
   "source": [
    "Z = np.zeros((2,4))\n",
    "print(Z)"
   ]
  },
  {
   "cell_type": "markdown",
   "id": "5c5d0d38-dc12-4235-a12e-2724899f585d",
   "metadata": {
    "jp-MarkdownHeadingCollapsed": true
   },
   "source": [
    "## Zero-, one-, two- and multi-dimensional arrays\n",
    "\n",
    "numpy arrays are containers of items of the same type, e.g. only integers. The homogenous type of the array can be determined with the attribute \"dtype\""
   ]
  },
  {
   "cell_type": "code",
   "execution_count": 49,
   "id": "190946d0-658b-4a15-9630-325ffab202c1",
   "metadata": {},
   "outputs": [
    {
     "name": "stdout",
     "output_type": "stream",
     "text": [
      "x:  42\n",
      "The dimension of x: 0\n"
     ]
    }
   ],
   "source": [
    "# Zero-dimensional\n",
    "\n",
    "x = np.array(42)\n",
    "print(\"x: \", x)\n",
    "print(\"The dimension of x:\", np.ndim(x))"
   ]
  },
  {
   "cell_type": "code",
   "execution_count": 54,
   "id": "fd797e19-1dae-4256-9934-8f332674efa4",
   "metadata": {},
   "outputs": [
    {
     "name": "stdout",
     "output_type": "stream",
     "text": [
      "F:  [ 1  1  2  3  5  8 13 21]\n",
      "V:  [ 3.4  6.9 99.8 12.8]\n",
      "Type of F:  int64\n",
      "Type of V:  float64\n",
      "Dimension of F:  1\n",
      "Dimension of V:  1\n"
     ]
    }
   ],
   "source": [
    "# One-dimensional arrays, better known as vectors \n",
    "\n",
    "F = np.array([1, 1, 2, 3, 5, 8, 13, 21])\n",
    "V = np.array([3.4, 6.9, 99.8, 12.8])\n",
    "print(\"F: \", F)\n",
    "print(\"V: \", V)\n",
    "print(\"Type of F: \", F.dtype)\n",
    "print(\"Type of V: \", V.dtype)\n",
    "print(\"Dimension of F: \", np.ndim(F))\n",
    "print(\"Dimension of V: \", np.ndim(V))"
   ]
  },
  {
   "cell_type": "code",
   "execution_count": null,
   "id": "acc55b13-03d2-4c4a-b4ec-3d24dde9a185",
   "metadata": {},
   "outputs": [],
   "source": [
    "# Two- and Multidimensional"
   ]
  },
  {
   "cell_type": "code",
   "execution_count": 60,
   "id": "13202ef6-5aa7-401e-a83f-659f32bb2091",
   "metadata": {},
   "outputs": [
    {
     "name": "stdout",
     "output_type": "stream",
     "text": [
      "2\n"
     ]
    }
   ],
   "source": [
    "A = np.array([ [3.4, 8.7, 9.9], \n",
    "               [1.1, -7.8, -0.7],\n",
    "               [4.1, 12.3, 4.8]])\n",
    "print(A.ndim) # two dimensions - rows and arrays "
   ]
  },
  {
   "cell_type": "code",
   "execution_count": 64,
   "id": "d62627af-dc84-4b2d-af33-213cfe3becc3",
   "metadata": {},
   "outputs": [
    {
     "name": "stdout",
     "output_type": "stream",
     "text": [
      "3\n"
     ]
    }
   ],
   "source": [
    "B = np.array([ [[111, 112], [121, 122]],\n",
    "               [[211, 212], [221, 222]],\n",
    "               [[311, 312], [321, 322]] ])\n",
    "print(B.ndim) # three dimensions - groups, rows and arrays "
   ]
  },
  {
   "attachments": {
    "49e5d1ca-1734-4d4c-ae54-2e6023d6a21d.png": {
     "image/png": "[encoded data removed]"
    },
    "a1eeeb80-ce6d-43cd-8655-f86788a98214.png": {
     "image/png": "[encoded data removed]"
    }
   },
   "cell_type": "markdown",
   "id": "fe5267c0-bb9d-4f7e-8e0f-638908df48f8",
   "metadata": {
    "jp-MarkdownHeadingCollapsed": true
   },
   "source": [
    "## Shape of an Array\n",
    "\n",
    "The shape of an array tells us also something about the order in which the indices are processed, i.e. first rows, then columns and after that the further dimensions.\n",
    "\n",
    "\n",
    "![image.png](attachment:a1eeeb80-ce6d-43cd-8655-f86788a98214.png)\n",
    "![image.png](attachment:49e5d1ca-1734-4d4c-ae54-2e6023d6a21d.png)"
   ]
  },
  {
   "cell_type": "code",
   "execution_count": 70,
   "id": "63d50c1b-5538-4b03-820a-ffdd9992972d",
   "metadata": {},
   "outputs": [
    {
     "name": "stdout",
     "output_type": "stream",
     "text": [
      "(6, 3)\n"
     ]
    }
   ],
   "source": [
    "x = np.array([ [67, 63, 87],\n",
    "               [77, 69, 59],\n",
    "               [85, 87, 99],\n",
    "               [79, 72, 71],\n",
    "               [63, 89, 93],\n",
    "               [68, 92, 78]])\n",
    "\n",
    "print(np.shape(x)) # 6 rows, 3 columns "
   ]
  },
  {
   "cell_type": "code",
   "execution_count": 72,
   "id": "9c9ea5d2-cbff-47e9-93ad-0b1c61d73b19",
   "metadata": {},
   "outputs": [
    {
     "name": "stdout",
     "output_type": "stream",
     "text": [
      "(6, 3)\n"
     ]
    }
   ],
   "source": [
    "print(x.shape)"
   ]
  },
  {
   "cell_type": "code",
   "execution_count": 79,
   "id": "07ad6c93-c826-4987-bcd5-452caca3e227",
   "metadata": {},
   "outputs": [
    {
     "data": {
      "text/plain": [
       "array([[67, 63, 87, 77, 69, 59, 85, 87, 99],\n",
       "       [79, 72, 71, 63, 89, 93, 68, 92, 78]])"
      ]
     },
     "execution_count": 79,
     "metadata": {},
     "output_type": "execute_result"
    }
   ],
   "source": [
    "# \"shape\" can also be used to change the shape of an array\n",
    "x.shape = (2, 9)\n",
    "x"
   ]
  },
  {
   "cell_type": "code",
   "execution_count": 81,
   "id": "d63af24c-5df2-4327-8beb-5ff5e98a02b6",
   "metadata": {},
   "outputs": [
    {
     "data": {
      "text/plain": [
       "(4, 2, 3)"
      ]
     },
     "execution_count": 81,
     "metadata": {},
     "output_type": "execute_result"
    }
   ],
   "source": [
    "b = np.array([ [[111, 112, 113], [121, 122, 123]],\n",
    "               [[211, 212, 213], [221, 222, 223]],\n",
    "               [[311, 312, 313], [321, 322, 323]],\n",
    "               [[411, 412, 413], [421, 422, 423]] ])\n",
    "\n",
    "b.shape\n"
   ]
  },
  {
   "cell_type": "markdown",
   "id": "2d63a638-9358-4722-96f3-a43f949bb6b3",
   "metadata": {
    "jp-MarkdownHeadingCollapsed": true
   },
   "source": [
    "## Indexing and Slicing\n",
    "\n",
    "**One-dimensional arrays**"
   ]
  },
  {
   "cell_type": "code",
   "execution_count": 87,
   "id": "e586015e-9d16-4934-aa20-efaed744adc0",
   "metadata": {},
   "outputs": [
    {
     "data": {
      "text/plain": [
       "1"
      ]
     },
     "execution_count": 87,
     "metadata": {},
     "output_type": "execute_result"
    }
   ],
   "source": [
    "f = np.array([1, 1, 2, 3, 5, 8, 13, 21])\n",
    "f[0]"
   ]
  },
  {
   "cell_type": "code",
   "execution_count": 89,
   "id": "0c75ed84-41cc-4bfc-87b5-0e8124071c0a",
   "metadata": {},
   "outputs": [
    {
     "data": {
      "text/plain": [
       "21"
      ]
     },
     "execution_count": 89,
     "metadata": {},
     "output_type": "execute_result"
    }
   ],
   "source": [
    "f[-1]"
   ]
  },
  {
   "cell_type": "markdown",
   "id": "f75022b6-0702-498a-b44f-30584d1ac613",
   "metadata": {},
   "source": [
    "**Indexing multidimensional arrays**\n",
    "\n",
    "We access an element in the second row, i.e. the row with the index 1, and the first column (index 0). We access it the same way, we would have done with an element of a nested Python list.\n",
    "\n",
    "That way of accessing multi-dimensional arrays can be highly inefficient. The reason is that we create an intermediate array A[1] from which we access the element with the index 0. "
   ]
  },
  {
   "cell_type": "code",
   "execution_count": 92,
   "id": "0ea6c947-53fc-4bcb-8c8b-c187224bfe67",
   "metadata": {},
   "outputs": [
    {
     "name": "stdout",
     "output_type": "stream",
     "text": [
      "1.1\n"
     ]
    }
   ],
   "source": [
    "A = np.array([ [3.4, 8.7, 9.9], \n",
    "               [1.1, -7.8, -0.7],\n",
    "               [4.1, 12.3, 4.8]])\n",
    "\n",
    "print(A[1][0])"
   ]
  },
  {
   "cell_type": "code",
   "execution_count": 97,
   "id": "43fa84af-047f-4aa4-9c00-8f0a5cb28ca4",
   "metadata": {},
   "outputs": [
    {
     "name": "stdout",
     "output_type": "stream",
     "text": [
      "[2 3 4]\n",
      "[0 1 2 3]\n",
      "[6 7 8 9]\n",
      "[0 1 2 3 4 5 6 7 8 9]\n"
     ]
    }
   ],
   "source": [
    "S = np.array([0, 1, 2, 3, 4, 5, 6, 7, 8, 9])\n",
    "print(S[2:5])\n",
    "print(S[:4])\n",
    "print(S[6:])\n",
    "print(S[:])"
   ]
  },
  {
   "cell_type": "code",
   "execution_count": 99,
   "id": "ecb57feb-6b93-44d2-ada4-759e765ec2d6",
   "metadata": {},
   "outputs": [
    {
     "name": "stdout",
     "output_type": "stream",
     "text": [
      "[[13 14 15]\n",
      " [23 24 25]\n",
      " [33 34 35]]\n"
     ]
    }
   ],
   "source": [
    "A = np.array([\n",
    "[11, 12, 13, 14, 15],\n",
    "[21, 22, 23, 24, 25],\n",
    "[31, 32, 33, 34, 35],\n",
    "[41, 42, 43, 44, 45],\n",
    "[51, 52, 53, 54, 55]])\n",
    "\n",
    "print(A[:3, 2:])\n"
   ]
  },
  {
   "cell_type": "markdown",
   "id": "1c9991a7-879c-414d-b294-1f76365ee499",
   "metadata": {
    "jp-MarkdownHeadingCollapsed": true
   },
   "source": [
    "## Copying Arrays\n",
    "\n",
    "**numpy.copy()**\n",
    "\n",
    "copy(obj, order='K')"
   ]
  },
  {
   "cell_type": "code",
   "execution_count": 121,
   "id": "024a13a6-2b0c-41f1-a4de-b5acb5d2357d",
   "metadata": {},
   "outputs": [
    {
     "name": "stdout",
     "output_type": "stream",
     "text": [
      "[[1001   22   12]\n",
      " [  44   53   66]]\n",
      "[[42 22 12]\n",
      " [44 53 66]]\n"
     ]
    }
   ],
   "source": [
    "x = np.array([[42,22,12],[44,53,66]], order='F')\n",
    "y = x.copy()\n",
    "\n",
    "x[0,0] = 1001\n",
    "\n",
    "print(x)\n",
    "print(y)"
   ]
  },
  {
   "cell_type": "markdown",
   "id": "740b3000-fca1-4ffd-b07b-fa83d2651f8b",
   "metadata": {},
   "source": [
    "**numpy.copy()**"
   ]
  },
  {
   "cell_type": "code",
   "execution_count": 123,
   "id": "abf9fa92-9cd3-4abd-9792-9a8c368c86bf",
   "metadata": {},
   "outputs": [
    {
     "name": "stdout",
     "output_type": "stream",
     "text": [
      "[[1001   22   12]\n",
      " [  44   53   66]]\n",
      "[[42 22 12]\n",
      " [44 53 66]]\n"
     ]
    }
   ],
   "source": [
    "x = np.array([[42,22,12],[44,53,66]], order='F')\n",
    "y = x.copy()\n",
    "x[0,0] = 1001\n",
    "print(x)\n",
    "\n",
    "print(y)"
   ]
  },
  {
   "cell_type": "markdown",
   "id": "c3f040b1-a76c-41fa-8619-80326567c666",
   "metadata": {
    "jp-MarkdownHeadingCollapsed": true
   },
   "source": [
    "## Numerical Operations on Numpy Arrays\n",
    "\n",
    "**using scalars**"
   ]
  },
  {
   "cell_type": "code",
   "execution_count": 136,
   "id": "bb9806f2-bedf-43ee-856b-9e17cf1e1559",
   "metadata": {},
   "outputs": [
    {
     "name": "stdout",
     "output_type": "stream",
     "text": [
      "[ 4.    5.    9.9   5.3   8.9   2.11 12.3  14.9 ]\n"
     ]
    }
   ],
   "source": [
    "lst = [2,3, 7.9, 3.3, 6.9, 0.11, 10.3, 12.9]\n",
    "v = np.array(lst)\n",
    "v = v + 2\n",
    "print(v)"
   ]
  },
  {
   "cell_type": "code",
   "execution_count": 140,
   "id": "6c61ffcf-1c01-46cd-a864-7226c14b3df7",
   "metadata": {},
   "outputs": [
    {
     "name": "stdout",
     "output_type": "stream",
     "text": [
      "[ 8.8   11.    21.78  11.66  19.58   4.642 27.06  32.78 ]\n",
      "[ 2.62  3.62  8.52  3.92  7.52  0.73 10.92 13.52]\n",
      "[ 16.      25.      98.01    28.09    79.21     4.4521 151.29   222.01  ]\n"
     ]
    }
   ],
   "source": [
    "print(v * 2.2)\n",
    "print(v - 1.38)\n",
    "print(v ** 2)"
   ]
  },
  {
   "cell_type": "markdown",
   "id": "71589224-cc61-4147-8d10-7669ab9706fb",
   "metadata": {},
   "source": [
    "**Arithmetic Operations with two Arrays**"
   ]
  },
  {
   "cell_type": "code",
   "execution_count": 143,
   "id": "00c52148-2f42-4f79-90da-d5dad767a3ff",
   "metadata": {},
   "outputs": [
    {
     "name": "stdout",
     "output_type": "stream",
     "text": [
      "Adding to arrays: \n",
      "[[12. 13. 14.]\n",
      " [22. 23. 24.]\n",
      " [32. 33. 34.]]\n",
      "\n",
      "Multiplying two arrays: \n",
      "[[22. 24. 26.]\n",
      " [42. 44. 46.]\n",
      " [62. 64. 66.]]\n"
     ]
    }
   ],
   "source": [
    "A = np.array([ [11, 12, 13], [21, 22, 23], [31, 32, 33] ])\n",
    "B = np.ones((3,3))\n",
    "\n",
    "print(\"Adding to arrays: \")\n",
    "print(A + B)\n",
    "\n",
    "print(\"\\nMultiplying two arrays: \")\n",
    "print(A * (B + 1))"
   ]
  },
  {
   "cell_type": "markdown",
   "id": "64ef4c14-c147-4cb7-b432-39bcb09d4a4e",
   "metadata": {},
   "source": [
    "**Matrix Multiplication**\n",
    "\n",
    "np.dot(A, B)"
   ]
  },
  {
   "cell_type": "code",
   "execution_count": 154,
   "id": "77240b3f-38eb-48b8-a871-3b9dbe3d4ec0",
   "metadata": {},
   "outputs": [
    {
     "name": "stdout",
     "output_type": "stream",
     "text": [
      "12\n"
     ]
    }
   ],
   "source": [
    "print(np.dot(3, 4))"
   ]
  },
  {
   "cell_type": "code",
   "execution_count": 158,
   "id": "28d724fb-8c18-4d5d-8874-93ab15bc00e9",
   "metadata": {},
   "outputs": [
    {
     "name": "stdout",
     "output_type": "stream",
     "text": [
      "-14\n"
     ]
    }
   ],
   "source": [
    "x = np.array([3, -2])\n",
    "y = np.array([-4, 1])\n",
    "print(np.dot(x, y))"
   ]
  },
  {
   "cell_type": "markdown",
   "id": "fa1b54f6-6060-46c6-8756-5920e52ff3c4",
   "metadata": {},
   "source": [
    "**Logical Operators**"
   ]
  },
  {
   "cell_type": "code",
   "execution_count": 163,
   "id": "76717df0-e035-495f-869b-cfb47d355750",
   "metadata": {},
   "outputs": [
    {
     "name": "stdout",
     "output_type": "stream",
     "text": [
      "[[ True  True]\n",
      " [ True False]]\n",
      "[[ True False]\n",
      " [False False]]\n"
     ]
    }
   ],
   "source": [
    "a = np.array([ [True, True], [False, False]])\n",
    "b = np.array([ [True, False], [True, False]])\n",
    "\n",
    "print(np.logical_or(a, b))\n",
    "print(np.logical_and(a, b))"
   ]
  },
  {
   "cell_type": "markdown",
   "id": "ef9a0def-2c31-4597-8992-0a90a17c741e",
   "metadata": {
    "jp-MarkdownHeadingCollapsed": true
   },
   "source": [
    "## Concatenating, Flattening and Adding Dimensions"
   ]
  },
  {
   "cell_type": "markdown",
   "id": "24eb9912-68d9-46ad-9c7a-c88bf33e61e9",
   "metadata": {},
   "source": [
    "**flatten**\n",
    "\n",
    "flatten is a ndarry method with an optional keyword parameter \"order\". order can have the values \"C\", \"F\" and \"A\". The default of order is \"C\". \"C\" means to flatten C style in row-major ordering, i.e. the rightmost index \"changes the fastest\" or in other words: In row-major order, the row index varies the slowest, and the column index the quickest, so that a[0,1] follows [0,0].\n",
    "\n",
    "\n",
    "* It returns a copy of the original array.\n",
    "* Any changes made to the new array will not affect the original array.\n",
    "* It always creates a new one-dimensional array.\n",
    "\n"
   ]
  },
  {
   "cell_type": "code",
   "execution_count": 167,
   "id": "b3df2968-3087-4099-8ef7-1f297e068096",
   "metadata": {},
   "outputs": [
    {
     "name": "stdout",
     "output_type": "stream",
     "text": [
      "[ 0  1  2  3  4  5  6  7  8  9 10 11 12 13 14 15 16 17 18 19 20 21 22 23]\n",
      "[ 0  1  2  3  4  5  6  7  8  9 10 11 12 13 14 15 16 17 18 19 20 21 22 23]\n",
      "[ 0  8 16  2 10 18  4 12 20  6 14 22  1  9 17  3 11 19  5 13 21  7 15 23]\n",
      "[ 0  1  2  3  4  5  6  7  8  9 10 11 12 13 14 15 16 17 18 19 20 21 22 23]\n"
     ]
    }
   ],
   "source": [
    "import numpy as np\n",
    "\n",
    "A = np.array([[[ 0,  1],\n",
    "               [ 2,  3],\n",
    "               [ 4,  5],\n",
    "               [ 6,  7]],\n",
    "              [[ 8,  9],\n",
    "               [10, 11],\n",
    "               [12, 13],\n",
    "               [14, 15]],\n",
    "              [[16, 17],\n",
    "               [18, 19],\n",
    "               [20, 21],\n",
    "               [22, 23]]])\n",
    "\n",
    "Flattened_X = A.flatten()\n",
    "print(Flattened_X)\n",
    "\n",
    "print(A.flatten(order=\"C\"))\n",
    "print(A.flatten(order=\"F\"))\n",
    "print(A.flatten(order=\"A\"))"
   ]
  },
  {
   "cell_type": "markdown",
   "id": "3e0a59d2-75aa-4ffe-93aa-5f63e7f7d162",
   "metadata": {},
   "source": [
    "**ravel()**\n",
    "\n",
    "* It returns a view of the original array if possible, meaning it tries to create a one-dimensional array that refers to the original data.\n",
    "* Any changes to the new array can affect the original array, if ravel returned a view.\n",
    "* If a view cannot be returned (e.g., for non-contiguous arrays), it will return a copy.\n"
   ]
  },
  {
   "cell_type": "code",
   "execution_count": 174,
   "id": "82f42b29-8a0d-44b4-a120-5520437a6a36",
   "metadata": {},
   "outputs": [
    {
     "name": "stdout",
     "output_type": "stream",
     "text": [
      "[ 0  1  2  3  4  5  6  7  8  9 10 11 12 13 14 15 16 17 18 19 20 21 22 23]\n",
      "[ 0  1  2  3  4  5  6  7  8  9 10 11 12 13 14 15 16 17 18 19 20 21 22 23]\n",
      "[ 0  8 16  2 10 18  4 12 20  6 14 22  1  9 17  3 11 19  5 13 21  7 15 23]\n",
      "[ 0  1  2  3  4  5  6  7  8  9 10 11 12 13 14 15 16 17 18 19 20 21 22 23]\n",
      "[ 0  1  2  3  4  5  6  7  8  9 10 11 12 13 14 15 16 17 18 19 20 21 22 23]\n"
     ]
    }
   ],
   "source": [
    "print(A.ravel())\n",
    "\n",
    "print(A.ravel(order=\"A\"))\n",
    "\n",
    "print(A.ravel(order=\"F\"))\n",
    "\n",
    "print(A.ravel(order=\"A\"))\n",
    "\n",
    "print(A.ravel(order=\"K\"))"
   ]
  },
  {
   "cell_type": "markdown",
   "id": "fb74299f-cbdc-4ee3-8b8c-2834e18e30f8",
   "metadata": {},
   "source": [
    "**reshape()**\n",
    "\n",
    "The method reshape() gives a new shape to an array without changing its data, i.e. it returns a new array with a new shape.\n",
    "\n",
    "reshape(a, newshape, order='C')"
   ]
  },
  {
   "cell_type": "code",
   "execution_count": 179,
   "id": "7d8f5295-d94e-4c75-a1c0-9714f712eb8b",
   "metadata": {},
   "outputs": [
    {
     "name": "stdout",
     "output_type": "stream",
     "text": [
      "[ 0  1  2  3  4  5  6  7  8  9 10 11 12 13 14 15 16 17 18 19 20 21 22 23]\n",
      "[[[ 0  1]\n",
      "  [ 2  3]\n",
      "  [ 4  5]\n",
      "  [ 6  7]]\n",
      "\n",
      " [[ 8  9]\n",
      "  [10 11]\n",
      "  [12 13]\n",
      "  [14 15]]\n",
      "\n",
      " [[16 17]\n",
      "  [18 19]\n",
      "  [20 21]\n",
      "  [22 23]]]\n"
     ]
    }
   ],
   "source": [
    "X = np.array(range(24))\n",
    "Y = X.reshape((3,4,2))\n",
    "print(X)\n",
    "print(Y)"
   ]
  },
  {
   "cell_type": "markdown",
   "id": "5b6dde15-57d9-4587-9010-a5bb790d7131",
   "metadata": {},
   "source": [
    "**Concatenating Arrays**"
   ]
  },
  {
   "cell_type": "code",
   "execution_count": 182,
   "id": "19488e15-a73d-411b-9c1b-06e44abdabc7",
   "metadata": {},
   "outputs": [
    {
     "name": "stdout",
     "output_type": "stream",
     "text": [
      "[11 22 18  7  6  1  3  5]\n"
     ]
    }
   ],
   "source": [
    "x = np.array([11,22])\n",
    "y = np.array([18,7,6])\n",
    "z = np.array([1,3,5])\n",
    "c = np.concatenate((x,y,z))\n",
    "print(c)"
   ]
  },
  {
   "cell_type": "code",
   "execution_count": 186,
   "id": "0326ce13-38eb-4e78-94e7-73f09befbf11",
   "metadata": {},
   "outputs": [
    {
     "name": "stdout",
     "output_type": "stream",
     "text": [
      "[[[  0   1]\n",
      "  [  2   3]\n",
      "  [  4   5]\n",
      "  [  6   7]]\n",
      "\n",
      " [[  8   9]\n",
      "  [ 10  11]\n",
      "  [ 12  13]\n",
      "  [ 14  15]]\n",
      "\n",
      " [[ 16  17]\n",
      "  [ 18  19]\n",
      "  [ 20  21]\n",
      "  [ 22  23]]\n",
      "\n",
      " [[100 101]\n",
      "  [102 103]\n",
      "  [104 105]\n",
      "  [106 107]]\n",
      "\n",
      " [[108 109]\n",
      "  [110 111]\n",
      "  [112 113]\n",
      "  [114 115]]\n",
      "\n",
      " [[116 117]\n",
      "  [118 119]\n",
      "  [120 121]\n",
      "  [122 123]]]\n"
     ]
    }
   ],
   "source": [
    "#The default value is axis = 0:\n",
    "\n",
    "x = np.array(range(24))\n",
    "x = x.reshape((3,4,2))\n",
    "y = np.array(range(100,124))\n",
    "y = y.reshape((3,4,2))\n",
    "z = np.concatenate((x,y))\n",
    "print(z)"
   ]
  },
  {
   "cell_type": "code",
   "execution_count": 188,
   "id": "8f9ab870-b9b0-43c7-ac94-a7005fa87b15",
   "metadata": {},
   "outputs": [
    {
     "name": "stdout",
     "output_type": "stream",
     "text": [
      "[[[  0   1]\n",
      "  [  2   3]\n",
      "  [  4   5]\n",
      "  [  6   7]\n",
      "  [100 101]\n",
      "  [102 103]\n",
      "  [104 105]\n",
      "  [106 107]]\n",
      "\n",
      " [[  8   9]\n",
      "  [ 10  11]\n",
      "  [ 12  13]\n",
      "  [ 14  15]\n",
      "  [108 109]\n",
      "  [110 111]\n",
      "  [112 113]\n",
      "  [114 115]]\n",
      "\n",
      " [[ 16  17]\n",
      "  [ 18  19]\n",
      "  [ 20  21]\n",
      "  [ 22  23]\n",
      "  [116 117]\n",
      "  [118 119]\n",
      "  [120 121]\n",
      "  [122 123]]]\n"
     ]
    }
   ],
   "source": [
    "# axis=1\n",
    "z = np.concatenate((x,y),axis = 1)\n",
    "print(z)"
   ]
  },
  {
   "cell_type": "markdown",
   "id": "eee00971-10cd-4dcd-a30c-ba7dcefec7a5",
   "metadata": {},
   "source": [
    "**Vector Stacking**"
   ]
  },
  {
   "cell_type": "code",
   "execution_count": 191,
   "id": "898796a5-2479-4488-9e7f-3f5c17c2085c",
   "metadata": {},
   "outputs": [
    {
     "name": "stdout",
     "output_type": "stream",
     "text": [
      "[[3 4 5]\n",
      " [1 9 0]]\n",
      "[[3 1]\n",
      " [4 9]\n",
      " [5 0]]\n"
     ]
    },
    {
     "data": {
      "text/plain": [
       "(3,)"
      ]
     },
     "execution_count": 191,
     "metadata": {},
     "output_type": "execute_result"
    }
   ],
   "source": [
    "A = np.array([3, 4, 5])\n",
    "B = np.array([1,9,0])\n",
    "\n",
    "print(np.row_stack((A, B)))\n",
    "\n",
    "print(np.column_stack((A, B)))\n",
    "np.shape(A)"
   ]
  },
  {
   "cell_type": "code",
   "execution_count": 193,
   "id": "1706bb15-e107-4335-abd1-8e12d677a109",
   "metadata": {},
   "outputs": [
    {
     "data": {
      "text/plain": [
       "array([[3, 4, 5, 3, 4, 5, 3, 4, 5],\n",
       "       [1, 9, 0, 1, 9, 0, 1, 9, 0],\n",
       "       [4, 6, 8, 4, 6, 8, 4, 6, 8]])"
      ]
     },
     "execution_count": 193,
     "metadata": {},
     "output_type": "execute_result"
    }
   ],
   "source": [
    "A = np.array([[3, 4, 5],\n",
    "              [1, 9, 0],\n",
    "              [4, 6, 8]])\n",
    "np.column_stack((A, A, A))"
   ]
  }
 ],
 "metadata": {
  "kernelspec": {
   "display_name": "Python 3 (ipykernel)",
   "language": "python",
   "name": "python3"
  },
  "language_info": {
   "codemirror_mode": {
    "name": "ipython",
    "version": 3
   },
   "file_extension": ".py",
   "mimetype": "text/x-python",
   "name": "python",
   "nbconvert_exporter": "python",
   "pygments_lexer": "ipython3",
   "version": "3.11.7"
  }
 },
 "nbformat": 4,
 "nbformat_minor": 5
}
